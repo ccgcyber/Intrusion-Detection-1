{
 "cells": [
  {
   "cell_type": "code",
   "execution_count": 1,
   "metadata": {
    "collapsed": true
   },
   "outputs": [],
   "source": [
    "#please run it in the root directory to avoid errors\n",
    "import pandas as pd \n",
    "import numpy as np \n",
    "import seaborn as sns \n",
    "import os \n",
    "import matplotlib.pyplot as plt\n",
    "from sklearn.preprocessing import MinMaxScaler\n",
    "from sklearn.feature_selection import VarianceThreshold\n",
    "from data import fetch_data,feature_engineering\n",
    "from sklearn.ensemble import RandomForestClassifier \n",
    "\n",
    "fea_variance=VarianceThreshold()\n",
    "%matplotlib inline"
   ]
  },
  {
   "cell_type": "code",
   "execution_count": 2,
   "metadata": {
    "collapsed": true
   },
   "outputs": [],
   "source": [
    "path = '/home/anurag/Desktop/DS_Training/'\n"
   ]
  },
  {
   "cell_type": "code",
   "execution_count": 3,
   "metadata": {},
   "outputs": [
    {
     "name": "stdout",
     "output_type": "stream",
     "text": [
      "Datasets loaded :)\n",
      "The dimensions of the training dataset is (494021, 41)\n",
      "The dimensions of test dataset is (311028, 41)\n",
      "The taken to do load data is 3.8229730129241943\n"
     ]
    }
   ],
   "source": [
    "x_train,y_train,x_test,y_test = fetch_data(path,remove_duplicates=False,binary=False)"
   ]
  },
  {
   "cell_type": "code",
   "execution_count": 4,
   "metadata": {},
   "outputs": [
    {
     "data": {
      "text/html": [
       "<div>\n",
       "<style>\n",
       "    .dataframe thead tr:only-child th {\n",
       "        text-align: right;\n",
       "    }\n",
       "\n",
       "    .dataframe thead th {\n",
       "        text-align: left;\n",
       "    }\n",
       "\n",
       "    .dataframe tbody tr th {\n",
       "        vertical-align: top;\n",
       "    }\n",
       "</style>\n",
       "<table border=\"1\" class=\"dataframe\">\n",
       "  <thead>\n",
       "    <tr style=\"text-align: right;\">\n",
       "      <th></th>\n",
       "      <th>duration</th>\n",
       "      <th>protocol_type</th>\n",
       "      <th>service</th>\n",
       "      <th>flag</th>\n",
       "      <th>src_bytes</th>\n",
       "      <th>dst_bytes</th>\n",
       "      <th>land</th>\n",
       "      <th>wrong_fragment</th>\n",
       "      <th>urgent</th>\n",
       "      <th>hot</th>\n",
       "      <th>...</th>\n",
       "      <th>dst_host_count</th>\n",
       "      <th>dst_host_srv_count</th>\n",
       "      <th>dst_host_same_srv_rate</th>\n",
       "      <th>dst_host_diff_srv_rate</th>\n",
       "      <th>dst_host_same_src_port_rate</th>\n",
       "      <th>dst_host_srv_diff_host_rate</th>\n",
       "      <th>dst_host_serror_rate</th>\n",
       "      <th>dst_host_srv_serror_rate</th>\n",
       "      <th>dst_host_rerror_rate</th>\n",
       "      <th>dst_host_srv_rerror_rate</th>\n",
       "    </tr>\n",
       "  </thead>\n",
       "  <tbody>\n",
       "    <tr>\n",
       "      <th>0</th>\n",
       "      <td>0</td>\n",
       "      <td>tcp</td>\n",
       "      <td>http</td>\n",
       "      <td>SF</td>\n",
       "      <td>181</td>\n",
       "      <td>5450</td>\n",
       "      <td>0</td>\n",
       "      <td>0</td>\n",
       "      <td>0</td>\n",
       "      <td>0</td>\n",
       "      <td>...</td>\n",
       "      <td>9</td>\n",
       "      <td>9</td>\n",
       "      <td>1.0</td>\n",
       "      <td>0.0</td>\n",
       "      <td>0.11</td>\n",
       "      <td>0.00</td>\n",
       "      <td>0.0</td>\n",
       "      <td>0.0</td>\n",
       "      <td>0.0</td>\n",
       "      <td>0.0</td>\n",
       "    </tr>\n",
       "    <tr>\n",
       "      <th>1</th>\n",
       "      <td>0</td>\n",
       "      <td>tcp</td>\n",
       "      <td>http</td>\n",
       "      <td>SF</td>\n",
       "      <td>239</td>\n",
       "      <td>486</td>\n",
       "      <td>0</td>\n",
       "      <td>0</td>\n",
       "      <td>0</td>\n",
       "      <td>0</td>\n",
       "      <td>...</td>\n",
       "      <td>19</td>\n",
       "      <td>19</td>\n",
       "      <td>1.0</td>\n",
       "      <td>0.0</td>\n",
       "      <td>0.05</td>\n",
       "      <td>0.00</td>\n",
       "      <td>0.0</td>\n",
       "      <td>0.0</td>\n",
       "      <td>0.0</td>\n",
       "      <td>0.0</td>\n",
       "    </tr>\n",
       "    <tr>\n",
       "      <th>2</th>\n",
       "      <td>0</td>\n",
       "      <td>tcp</td>\n",
       "      <td>http</td>\n",
       "      <td>SF</td>\n",
       "      <td>235</td>\n",
       "      <td>1337</td>\n",
       "      <td>0</td>\n",
       "      <td>0</td>\n",
       "      <td>0</td>\n",
       "      <td>0</td>\n",
       "      <td>...</td>\n",
       "      <td>29</td>\n",
       "      <td>29</td>\n",
       "      <td>1.0</td>\n",
       "      <td>0.0</td>\n",
       "      <td>0.03</td>\n",
       "      <td>0.00</td>\n",
       "      <td>0.0</td>\n",
       "      <td>0.0</td>\n",
       "      <td>0.0</td>\n",
       "      <td>0.0</td>\n",
       "    </tr>\n",
       "    <tr>\n",
       "      <th>3</th>\n",
       "      <td>0</td>\n",
       "      <td>tcp</td>\n",
       "      <td>http</td>\n",
       "      <td>SF</td>\n",
       "      <td>219</td>\n",
       "      <td>1337</td>\n",
       "      <td>0</td>\n",
       "      <td>0</td>\n",
       "      <td>0</td>\n",
       "      <td>0</td>\n",
       "      <td>...</td>\n",
       "      <td>39</td>\n",
       "      <td>39</td>\n",
       "      <td>1.0</td>\n",
       "      <td>0.0</td>\n",
       "      <td>0.03</td>\n",
       "      <td>0.00</td>\n",
       "      <td>0.0</td>\n",
       "      <td>0.0</td>\n",
       "      <td>0.0</td>\n",
       "      <td>0.0</td>\n",
       "    </tr>\n",
       "    <tr>\n",
       "      <th>4</th>\n",
       "      <td>0</td>\n",
       "      <td>tcp</td>\n",
       "      <td>http</td>\n",
       "      <td>SF</td>\n",
       "      <td>217</td>\n",
       "      <td>2032</td>\n",
       "      <td>0</td>\n",
       "      <td>0</td>\n",
       "      <td>0</td>\n",
       "      <td>0</td>\n",
       "      <td>...</td>\n",
       "      <td>49</td>\n",
       "      <td>49</td>\n",
       "      <td>1.0</td>\n",
       "      <td>0.0</td>\n",
       "      <td>0.02</td>\n",
       "      <td>0.00</td>\n",
       "      <td>0.0</td>\n",
       "      <td>0.0</td>\n",
       "      <td>0.0</td>\n",
       "      <td>0.0</td>\n",
       "    </tr>\n",
       "    <tr>\n",
       "      <th>5</th>\n",
       "      <td>0</td>\n",
       "      <td>tcp</td>\n",
       "      <td>http</td>\n",
       "      <td>SF</td>\n",
       "      <td>217</td>\n",
       "      <td>2032</td>\n",
       "      <td>0</td>\n",
       "      <td>0</td>\n",
       "      <td>0</td>\n",
       "      <td>0</td>\n",
       "      <td>...</td>\n",
       "      <td>59</td>\n",
       "      <td>59</td>\n",
       "      <td>1.0</td>\n",
       "      <td>0.0</td>\n",
       "      <td>0.02</td>\n",
       "      <td>0.00</td>\n",
       "      <td>0.0</td>\n",
       "      <td>0.0</td>\n",
       "      <td>0.0</td>\n",
       "      <td>0.0</td>\n",
       "    </tr>\n",
       "    <tr>\n",
       "      <th>6</th>\n",
       "      <td>0</td>\n",
       "      <td>tcp</td>\n",
       "      <td>http</td>\n",
       "      <td>SF</td>\n",
       "      <td>212</td>\n",
       "      <td>1940</td>\n",
       "      <td>0</td>\n",
       "      <td>0</td>\n",
       "      <td>0</td>\n",
       "      <td>0</td>\n",
       "      <td>...</td>\n",
       "      <td>1</td>\n",
       "      <td>69</td>\n",
       "      <td>1.0</td>\n",
       "      <td>0.0</td>\n",
       "      <td>1.00</td>\n",
       "      <td>0.04</td>\n",
       "      <td>0.0</td>\n",
       "      <td>0.0</td>\n",
       "      <td>0.0</td>\n",
       "      <td>0.0</td>\n",
       "    </tr>\n",
       "    <tr>\n",
       "      <th>7</th>\n",
       "      <td>0</td>\n",
       "      <td>tcp</td>\n",
       "      <td>http</td>\n",
       "      <td>SF</td>\n",
       "      <td>159</td>\n",
       "      <td>4087</td>\n",
       "      <td>0</td>\n",
       "      <td>0</td>\n",
       "      <td>0</td>\n",
       "      <td>0</td>\n",
       "      <td>...</td>\n",
       "      <td>11</td>\n",
       "      <td>79</td>\n",
       "      <td>1.0</td>\n",
       "      <td>0.0</td>\n",
       "      <td>0.09</td>\n",
       "      <td>0.04</td>\n",
       "      <td>0.0</td>\n",
       "      <td>0.0</td>\n",
       "      <td>0.0</td>\n",
       "      <td>0.0</td>\n",
       "    </tr>\n",
       "    <tr>\n",
       "      <th>8</th>\n",
       "      <td>0</td>\n",
       "      <td>tcp</td>\n",
       "      <td>http</td>\n",
       "      <td>SF</td>\n",
       "      <td>210</td>\n",
       "      <td>151</td>\n",
       "      <td>0</td>\n",
       "      <td>0</td>\n",
       "      <td>0</td>\n",
       "      <td>0</td>\n",
       "      <td>...</td>\n",
       "      <td>8</td>\n",
       "      <td>89</td>\n",
       "      <td>1.0</td>\n",
       "      <td>0.0</td>\n",
       "      <td>0.12</td>\n",
       "      <td>0.04</td>\n",
       "      <td>0.0</td>\n",
       "      <td>0.0</td>\n",
       "      <td>0.0</td>\n",
       "      <td>0.0</td>\n",
       "    </tr>\n",
       "    <tr>\n",
       "      <th>9</th>\n",
       "      <td>0</td>\n",
       "      <td>tcp</td>\n",
       "      <td>http</td>\n",
       "      <td>SF</td>\n",
       "      <td>212</td>\n",
       "      <td>786</td>\n",
       "      <td>0</td>\n",
       "      <td>0</td>\n",
       "      <td>0</td>\n",
       "      <td>1</td>\n",
       "      <td>...</td>\n",
       "      <td>8</td>\n",
       "      <td>99</td>\n",
       "      <td>1.0</td>\n",
       "      <td>0.0</td>\n",
       "      <td>0.12</td>\n",
       "      <td>0.05</td>\n",
       "      <td>0.0</td>\n",
       "      <td>0.0</td>\n",
       "      <td>0.0</td>\n",
       "      <td>0.0</td>\n",
       "    </tr>\n",
       "  </tbody>\n",
       "</table>\n",
       "<p>10 rows × 41 columns</p>\n",
       "</div>"
      ],
      "text/plain": [
       "   duration protocol_type service flag  src_bytes  dst_bytes  land  \\\n",
       "0         0           tcp    http   SF        181       5450     0   \n",
       "1         0           tcp    http   SF        239        486     0   \n",
       "2         0           tcp    http   SF        235       1337     0   \n",
       "3         0           tcp    http   SF        219       1337     0   \n",
       "4         0           tcp    http   SF        217       2032     0   \n",
       "5         0           tcp    http   SF        217       2032     0   \n",
       "6         0           tcp    http   SF        212       1940     0   \n",
       "7         0           tcp    http   SF        159       4087     0   \n",
       "8         0           tcp    http   SF        210        151     0   \n",
       "9         0           tcp    http   SF        212        786     0   \n",
       "\n",
       "   wrong_fragment  urgent  hot            ...             dst_host_count  \\\n",
       "0               0       0    0            ...                          9   \n",
       "1               0       0    0            ...                         19   \n",
       "2               0       0    0            ...                         29   \n",
       "3               0       0    0            ...                         39   \n",
       "4               0       0    0            ...                         49   \n",
       "5               0       0    0            ...                         59   \n",
       "6               0       0    0            ...                          1   \n",
       "7               0       0    0            ...                         11   \n",
       "8               0       0    0            ...                          8   \n",
       "9               0       0    1            ...                          8   \n",
       "\n",
       "   dst_host_srv_count  dst_host_same_srv_rate  dst_host_diff_srv_rate  \\\n",
       "0                   9                     1.0                     0.0   \n",
       "1                  19                     1.0                     0.0   \n",
       "2                  29                     1.0                     0.0   \n",
       "3                  39                     1.0                     0.0   \n",
       "4                  49                     1.0                     0.0   \n",
       "5                  59                     1.0                     0.0   \n",
       "6                  69                     1.0                     0.0   \n",
       "7                  79                     1.0                     0.0   \n",
       "8                  89                     1.0                     0.0   \n",
       "9                  99                     1.0                     0.0   \n",
       "\n",
       "   dst_host_same_src_port_rate  dst_host_srv_diff_host_rate  \\\n",
       "0                         0.11                         0.00   \n",
       "1                         0.05                         0.00   \n",
       "2                         0.03                         0.00   \n",
       "3                         0.03                         0.00   \n",
       "4                         0.02                         0.00   \n",
       "5                         0.02                         0.00   \n",
       "6                         1.00                         0.04   \n",
       "7                         0.09                         0.04   \n",
       "8                         0.12                         0.04   \n",
       "9                         0.12                         0.05   \n",
       "\n",
       "   dst_host_serror_rate  dst_host_srv_serror_rate  dst_host_rerror_rate  \\\n",
       "0                   0.0                       0.0                   0.0   \n",
       "1                   0.0                       0.0                   0.0   \n",
       "2                   0.0                       0.0                   0.0   \n",
       "3                   0.0                       0.0                   0.0   \n",
       "4                   0.0                       0.0                   0.0   \n",
       "5                   0.0                       0.0                   0.0   \n",
       "6                   0.0                       0.0                   0.0   \n",
       "7                   0.0                       0.0                   0.0   \n",
       "8                   0.0                       0.0                   0.0   \n",
       "9                   0.0                       0.0                   0.0   \n",
       "\n",
       "   dst_host_srv_rerror_rate  \n",
       "0                       0.0  \n",
       "1                       0.0  \n",
       "2                       0.0  \n",
       "3                       0.0  \n",
       "4                       0.0  \n",
       "5                       0.0  \n",
       "6                       0.0  \n",
       "7                       0.0  \n",
       "8                       0.0  \n",
       "9                       0.0  \n",
       "\n",
       "[10 rows x 41 columns]"
      ]
     },
     "execution_count": 4,
     "metadata": {},
     "output_type": "execute_result"
    }
   ],
   "source": [
    "x_train.head(10)"
   ]
  },
  {
   "cell_type": "code",
   "execution_count": 5,
   "metadata": {
    "scrolled": true
   },
   "outputs": [
    {
     "data": {
      "text/plain": [
       "smurf.              280790\n",
       "neptune.            107201\n",
       "normal.              97260\n",
       "back.                 2203\n",
       "satan.                1589\n",
       "ipsweep.              1247\n",
       "portsweep.            1040\n",
       "warezclient.          1020\n",
       "teardrop.              979\n",
       "pod.                   264\n",
       "nmap.                  231\n",
       "guess_passwd.           53\n",
       "buffer_overflow.        30\n",
       "land.                   21\n",
       "warezmaster.            20\n",
       "others.                 18\n",
       "imap.                   12\n",
       "rootkit.                10\n",
       "loadmodule.              9\n",
       "ftp_write.               8\n",
       "multihop.                7\n",
       "phf.                     4\n",
       "perl.                    3\n",
       "spy.                     2\n",
       "Name: label, dtype: int64"
      ]
     },
     "execution_count": 5,
     "metadata": {},
     "output_type": "execute_result"
    }
   ],
   "source": [
    "(y_train.value_counts())\n"
   ]
  },
  {
   "cell_type": "code",
   "execution_count": 6,
   "metadata": {},
   "outputs": [
    {
     "name": "stdout",
     "output_type": "stream",
     "text": [
      "(494021, 41)\n",
      "the number of duplicate instances in x_train is 70.5310 %\n"
     ]
    }
   ],
   "source": [
    "print (x_train.shape)\n",
    "\n",
    "print('the number of duplicate instances in x_train is {:.4f} %'.format( sum(x_train.duplicated())/(x_train.shape[0])*100 ))\n",
    "\n"
   ]
  },
  {
   "cell_type": "code",
   "execution_count": 7,
   "metadata": {},
   "outputs": [
    {
     "name": "stdout",
     "output_type": "stream",
     "text": [
      "the number of duplicate instances in x_test is 75.1739 %\n"
     ]
    }
   ],
   "source": [
    "print('the number of duplicate instances in x_test is {:.4f} %'.format( sum(x_test.duplicated())/(x_test.shape[0])*100  ))\n"
   ]
  },
  {
   "cell_type": "markdown",
   "metadata": {},
   "source": [
    "\n",
    "# Label distribution of the duplicates"
   ]
  },
  {
   "cell_type": "code",
   "execution_count": 12,
   "metadata": {},
   "outputs": [
    {
     "name": "stdout",
     "output_type": "stream",
     "text": [
      "The number of duplicates instances in x_train is 348438\n",
      "The shape of temp_duplicates is (494021, 42)\n",
      "The number of duplicates in the training data considering labels too now is 348435 \n",
      "Turns out the labels of the duplicates are the same(almost !), so no worries in removing them.\n"
     ]
    }
   ],
   "source": [
    "print('The number of duplicates instances in x_train is {}'.format(x_train.duplicated().sum()))\n",
    "temp_duplicates = pd.concat([x_train,y_train],axis=1)\n",
    "print ('The shape of temp_duplicates is {}'.format(temp_duplicates.shape))\n",
    "print ('The number of duplicates in the training data considering labels too now is {} '.format(temp_duplicates.duplicated().sum()))\n",
    "\n",
    "print('Turns out the labels of the duplicates are the same(almost !), so no worries in removing them.')"
   ]
  },
  {
   "cell_type": "markdown",
   "metadata": {
    "collapsed": true
   },
   "source": [
    "# Handling of Categorical features "
   ]
  },
  {
   "cell_type": "code",
   "execution_count": 13,
   "metadata": {
    "collapsed": true
   },
   "outputs": [],
   "source": [
    "cat_features = ['protocol_type','service','flag','land','logged_in','is_host_login','is_guest_login']"
   ]
  },
  {
   "cell_type": "code",
   "execution_count": 14,
   "metadata": {
    "collapsed": true
   },
   "outputs": [],
   "source": [
    "x_train_cat = x_train.loc[:,cat_features]"
   ]
  },
  {
   "cell_type": "code",
   "execution_count": 15,
   "metadata": {},
   "outputs": [
    {
     "data": {
      "text/plain": [
       "icmp    283602\n",
       "tcp     190065\n",
       "udp      20354\n",
       "Name: protocol_type, dtype: int64"
      ]
     },
     "execution_count": 15,
     "metadata": {},
     "output_type": "execute_result"
    }
   ],
   "source": [
    "x_train_cat['protocol_type'].value_counts()"
   ]
  },
  {
   "cell_type": "code",
   "execution_count": 23,
   "metadata": {
    "scrolled": true
   },
   "outputs": [
    {
     "data": {
      "text/plain": [
       "<matplotlib.axes._subplots.AxesSubplot at 0x7f45f66b3358>"
      ]
     },
     "execution_count": 23,
     "metadata": {},
     "output_type": "execute_result"
    },
    {
     "data": {
      "image/png": "[encoded data removed]",
      "text/plain": [
       "<matplotlib.figure.Figure at 0x7f45f6759e80>"
      ]
     },
     "metadata": {},
     "output_type": "display_data"
    }
   ],
   "source": [
    "sns.countplot(x_train_cat['service'])"
   ]
  },
  {
   "cell_type": "code",
   "execution_count": 22,
   "metadata": {
    "scrolled": true
   },
   "outputs": [
    {
     "data": {
      "text/plain": [
       "<matplotlib.axes._subplots.AxesSubplot at 0x7f45f67f66d8>"
      ]
     },
     "execution_count": 22,
     "metadata": {},
     "output_type": "execute_result"
    },
    {
     "data": {
      "image/png": "[encoded data removed]",
      "text/plain": [
       "<matplotlib.figure.Figure at 0x7f45f8885668>"
      ]
     },
     "metadata": {},
     "output_type": "display_data"
    }
   ],
   "source": [
    "sns.countplot(x_train_cat['service'])"
   ]
  },
  {
   "cell_type": "code",
   "execution_count": null,
   "metadata": {
    "collapsed": true
   },
   "outputs": [],
   "source": [
    "def create_dummies_service(inp):\n",
    "    if inp=='ecr_i':\n",
    "        return 0\n",
    "    elif inp=='private':\n",
    "        return 1\n",
    "    elif inp=='http':\n",
    "        return 2\n",
    "    elif inp=='smtp':\n",
    "        return 3\n",
    "    elif inp=='pop_3':\n",
    "        return 4\n",
    "    elif inp=='domain_u':\n",
    "        return 5\n",
    "    else:\n",
    "        return 6"
   ]
  },
  {
   "cell_type": "code",
   "execution_count": 19,
   "metadata": {
    "scrolled": true
   },
   "outputs": [
    {
     "data": {
      "text/plain": [
       "<matplotlib.axes._subplots.AxesSubplot at 0x7f45f879d2b0>"
      ]
     },
     "execution_count": 19,
     "metadata": {},
     "output_type": "execute_result"
    },
    {
     "data": {
      "image/png": "[encoded data removed]",
      "text/plain": [
       "<matplotlib.figure.Figure at 0x7f45f87d70f0>"
      ]
     },
     "metadata": {},
     "output_type": "display_data"
    }
   ],
   "source": [
    "sns.countplot(x_train_cat['flag'])"
   ]
  },
  {
   "cell_type": "code",
   "execution_count": 20,
   "metadata": {},
   "outputs": [
    {
     "data": {
      "text/plain": [
       "<matplotlib.axes._subplots.AxesSubplot at 0x7f45f692d240>"
      ]
     },
     "execution_count": 20,
     "metadata": {},
     "output_type": "execute_result"
    },
    {
     "data": {
      "image/png": "[encoded data removed]",
      "text/plain": [
       "<matplotlib.figure.Figure at 0x7f45f8913668>"
      ]
     },
     "metadata": {},
     "output_type": "display_data"
    }
   ],
   "source": [
    "sns.countplot(x_train_cat['land'])"
   ]
  },
  {
   "cell_type": "code",
   "execution_count": 21,
   "metadata": {},
   "outputs": [
    {
     "data": {
      "text/plain": [
       "<matplotlib.axes._subplots.AxesSubplot at 0x7f45f68787b8>"
      ]
     },
     "execution_count": 21,
     "metadata": {},
     "output_type": "execute_result"
    },
    {
     "data": {
      "image/png": "[encoded data removed]",
      "text/plain": [
       "<matplotlib.figure.Figure at 0x7f45f87bbe10>"
      ]
     },
     "metadata": {},
     "output_type": "display_data"
    }
   ],
   "source": [
    "sns.countplot(x_train_cat['logged_in'])"
   ]
  },
  {
   "cell_type": "code",
   "execution_count": 24,
   "metadata": {},
   "outputs": [
    {
     "data": {
      "text/plain": [
       "<matplotlib.axes._subplots.AxesSubplot at 0x7f45f63ebcf8>"
      ]
     },
     "execution_count": 24,
     "metadata": {},
     "output_type": "execute_result"
    },
    {
     "data": {
      "image/png": "[encoded data removed]",
      "text/plain": [
       "<matplotlib.figure.Figure at 0x7f45f6428eb8>"
      ]
     },
     "metadata": {},
     "output_type": "display_data"
    }
   ],
   "source": [
    "sns.countplot(x_train_cat['is_guest_login'])"
   ]
  },
  {
   "cell_type": "code",
   "execution_count": null,
   "metadata": {
    "collapsed": true
   },
   "outputs": [],
   "source": [
    "# sns.countplot(x_train['protocol_type'])\n",
    "for col in x_train_cat.axes[1].values:\n",
    "    sns.countplot(x_train_cat[col])\n",
    "    plt.figure()"
   ]
  },
  {
   "cell_type": "code",
   "execution_count": 25,
   "metadata": {},
   "outputs": [
    {
     "data": {
      "text/plain": [
       "0    493999\n",
       "1        22\n",
       "Name: land, dtype: int64"
      ]
     },
     "execution_count": 25,
     "metadata": {},
     "output_type": "execute_result"
    }
   ],
   "source": [
    "x_train_cat['land'].value_counts()"
   ]
  },
  {
   "cell_type": "code",
   "execution_count": null,
   "metadata": {
    "collapsed": true
   },
   "outputs": [],
   "source": [
    "x_train_cat['is_host_login'].value_counts()\n",
    "#This feature does not add anything\n",
    "x_train.drop(['is_host_login'],axis=1,inplace=True)"
   ]
  },
  {
   "cell_type": "code",
   "execution_count": null,
   "metadata": {
    "collapsed": true
   },
   "outputs": [],
   "source": [
    "x_train_cat['is_guest_login'].value_counts()"
   ]
  },
  {
   "cell_type": "markdown",
   "metadata": {},
   "source": [
    "# Handling of continous features "
   ]
  },
  {
   "cell_type": "code",
   "execution_count": 26,
   "metadata": {
    "collapsed": true
   },
   "outputs": [],
   "source": [
    "cols=list(x_train.axes[1].values)\n",
    "x_train_cont=x_train.loc[:,list(set(cols).difference(set(cat_features)))]"
   ]
  },
  {
   "cell_type": "code",
   "execution_count": 27,
   "metadata": {},
   "outputs": [
    {
     "data": {
      "text/plain": [
       "(494021, 34)"
      ]
     },
     "execution_count": 27,
     "metadata": {},
     "output_type": "execute_result"
    }
   ],
   "source": [
    "x_train_cont.shape"
   ]
  },
  {
   "cell_type": "code",
   "execution_count": 28,
   "metadata": {},
   "outputs": [
    {
     "data": {
      "text/plain": [
       "array(['srv_serror_rate', 'dst_host_diff_srv_rate', 'num_root',\n",
       "       'dst_host_srv_rerror_rate', 'num_shells', 'num_outbound_cmds',\n",
       "       'dst_host_srv_serror_rate', 'srv_diff_host_rate',\n",
       "       'dst_host_srv_diff_host_rate', 'same_srv_rate',\n",
       "       'dst_host_same_srv_rate', 'srv_rerror_rate', 'count',\n",
       "       'dst_host_srv_count', 'hot', 'srv_count', 'serror_rate',\n",
       "       'src_bytes', 'dst_host_rerror_rate', 'num_access_files', 'urgent',\n",
       "       'rerror_rate', 'dst_host_serror_rate', 'su_attempted', 'dst_bytes',\n",
       "       'dst_host_same_src_port_rate', 'wrong_fragment', 'diff_srv_rate',\n",
       "       'num_failed_logins', 'root_shell', 'duration', 'dst_host_count',\n",
       "       'num_file_creations', 'num_compromised'], dtype=object)"
      ]
     },
     "execution_count": 28,
     "metadata": {},
     "output_type": "execute_result"
    }
   ],
   "source": [
    "x_train_cont.axes[1].values"
   ]
  },
  {
   "cell_type": "code",
   "execution_count": 29,
   "metadata": {},
   "outputs": [
    {
     "data": {
      "text/html": [
       "<div>\n",
       "<style>\n",
       "    .dataframe thead tr:only-child th {\n",
       "        text-align: right;\n",
       "    }\n",
       "\n",
       "    .dataframe thead th {\n",
       "        text-align: left;\n",
       "    }\n",
       "\n",
       "    .dataframe tbody tr th {\n",
       "        vertical-align: top;\n",
       "    }\n",
       "</style>\n",
       "<table border=\"1\" class=\"dataframe\">\n",
       "  <thead>\n",
       "    <tr style=\"text-align: right;\">\n",
       "      <th></th>\n",
       "      <th>srv_serror_rate</th>\n",
       "      <th>dst_host_diff_srv_rate</th>\n",
       "      <th>num_root</th>\n",
       "      <th>dst_host_srv_rerror_rate</th>\n",
       "      <th>num_shells</th>\n",
       "      <th>num_outbound_cmds</th>\n",
       "      <th>dst_host_srv_serror_rate</th>\n",
       "      <th>srv_diff_host_rate</th>\n",
       "      <th>dst_host_srv_diff_host_rate</th>\n",
       "      <th>same_srv_rate</th>\n",
       "      <th>...</th>\n",
       "      <th>dst_bytes</th>\n",
       "      <th>dst_host_same_src_port_rate</th>\n",
       "      <th>wrong_fragment</th>\n",
       "      <th>diff_srv_rate</th>\n",
       "      <th>num_failed_logins</th>\n",
       "      <th>root_shell</th>\n",
       "      <th>duration</th>\n",
       "      <th>dst_host_count</th>\n",
       "      <th>num_file_creations</th>\n",
       "      <th>num_compromised</th>\n",
       "    </tr>\n",
       "  </thead>\n",
       "  <tbody>\n",
       "    <tr>\n",
       "      <th>count</th>\n",
       "      <td>494021.000000</td>\n",
       "      <td>494021.000000</td>\n",
       "      <td>494021.000000</td>\n",
       "      <td>494021.000000</td>\n",
       "      <td>494021.000000</td>\n",
       "      <td>494021.0</td>\n",
       "      <td>494021.000000</td>\n",
       "      <td>494021.000000</td>\n",
       "      <td>494021.000000</td>\n",
       "      <td>494021.000000</td>\n",
       "      <td>...</td>\n",
       "      <td>4.940210e+05</td>\n",
       "      <td>494021.000000</td>\n",
       "      <td>494021.000000</td>\n",
       "      <td>494021.000000</td>\n",
       "      <td>494021.000000</td>\n",
       "      <td>494021.000000</td>\n",
       "      <td>494021.000000</td>\n",
       "      <td>494021.000000</td>\n",
       "      <td>494021.000000</td>\n",
       "      <td>494021.000000</td>\n",
       "    </tr>\n",
       "    <tr>\n",
       "      <th>mean</th>\n",
       "      <td>0.176609</td>\n",
       "      <td>0.030906</td>\n",
       "      <td>0.011352</td>\n",
       "      <td>0.057412</td>\n",
       "      <td>0.000109</td>\n",
       "      <td>0.0</td>\n",
       "      <td>0.176443</td>\n",
       "      <td>0.028996</td>\n",
       "      <td>0.006684</td>\n",
       "      <td>0.791547</td>\n",
       "      <td>...</td>\n",
       "      <td>8.685315e+02</td>\n",
       "      <td>0.601935</td>\n",
       "      <td>0.006433</td>\n",
       "      <td>0.020982</td>\n",
       "      <td>0.000152</td>\n",
       "      <td>0.000111</td>\n",
       "      <td>47.979302</td>\n",
       "      <td>232.470790</td>\n",
       "      <td>0.001083</td>\n",
       "      <td>0.010212</td>\n",
       "    </tr>\n",
       "    <tr>\n",
       "      <th>std</th>\n",
       "      <td>0.381017</td>\n",
       "      <td>0.109259</td>\n",
       "      <td>2.012718</td>\n",
       "      <td>0.230140</td>\n",
       "      <td>0.011020</td>\n",
       "      <td>0.0</td>\n",
       "      <td>0.380919</td>\n",
       "      <td>0.142397</td>\n",
       "      <td>0.042133</td>\n",
       "      <td>0.388189</td>\n",
       "      <td>...</td>\n",
       "      <td>3.304000e+04</td>\n",
       "      <td>0.481309</td>\n",
       "      <td>0.134805</td>\n",
       "      <td>0.082205</td>\n",
       "      <td>0.015520</td>\n",
       "      <td>0.010551</td>\n",
       "      <td>707.746472</td>\n",
       "      <td>64.745337</td>\n",
       "      <td>0.096416</td>\n",
       "      <td>1.798326</td>\n",
       "    </tr>\n",
       "    <tr>\n",
       "      <th>min</th>\n",
       "      <td>0.000000</td>\n",
       "      <td>0.000000</td>\n",
       "      <td>0.000000</td>\n",
       "      <td>0.000000</td>\n",
       "      <td>0.000000</td>\n",
       "      <td>0.0</td>\n",
       "      <td>0.000000</td>\n",
       "      <td>0.000000</td>\n",
       "      <td>0.000000</td>\n",
       "      <td>0.000000</td>\n",
       "      <td>...</td>\n",
       "      <td>0.000000e+00</td>\n",
       "      <td>0.000000</td>\n",
       "      <td>0.000000</td>\n",
       "      <td>0.000000</td>\n",
       "      <td>0.000000</td>\n",
       "      <td>0.000000</td>\n",
       "      <td>0.000000</td>\n",
       "      <td>0.000000</td>\n",
       "      <td>0.000000</td>\n",
       "      <td>0.000000</td>\n",
       "    </tr>\n",
       "    <tr>\n",
       "      <th>25%</th>\n",
       "      <td>0.000000</td>\n",
       "      <td>0.000000</td>\n",
       "      <td>0.000000</td>\n",
       "      <td>0.000000</td>\n",
       "      <td>0.000000</td>\n",
       "      <td>0.0</td>\n",
       "      <td>0.000000</td>\n",
       "      <td>0.000000</td>\n",
       "      <td>0.000000</td>\n",
       "      <td>1.000000</td>\n",
       "      <td>...</td>\n",
       "      <td>0.000000e+00</td>\n",
       "      <td>0.000000</td>\n",
       "      <td>0.000000</td>\n",
       "      <td>0.000000</td>\n",
       "      <td>0.000000</td>\n",
       "      <td>0.000000</td>\n",
       "      <td>0.000000</td>\n",
       "      <td>255.000000</td>\n",
       "      <td>0.000000</td>\n",
       "      <td>0.000000</td>\n",
       "    </tr>\n",
       "    <tr>\n",
       "      <th>50%</th>\n",
       "      <td>0.000000</td>\n",
       "      <td>0.000000</td>\n",
       "      <td>0.000000</td>\n",
       "      <td>0.000000</td>\n",
       "      <td>0.000000</td>\n",
       "      <td>0.0</td>\n",
       "      <td>0.000000</td>\n",
       "      <td>0.000000</td>\n",
       "      <td>0.000000</td>\n",
       "      <td>1.000000</td>\n",
       "      <td>...</td>\n",
       "      <td>0.000000e+00</td>\n",
       "      <td>1.000000</td>\n",
       "      <td>0.000000</td>\n",
       "      <td>0.000000</td>\n",
       "      <td>0.000000</td>\n",
       "      <td>0.000000</td>\n",
       "      <td>0.000000</td>\n",
       "      <td>255.000000</td>\n",
       "      <td>0.000000</td>\n",
       "      <td>0.000000</td>\n",
       "    </tr>\n",
       "    <tr>\n",
       "      <th>75%</th>\n",
       "      <td>0.000000</td>\n",
       "      <td>0.040000</td>\n",
       "      <td>0.000000</td>\n",
       "      <td>0.000000</td>\n",
       "      <td>0.000000</td>\n",
       "      <td>0.0</td>\n",
       "      <td>0.000000</td>\n",
       "      <td>0.000000</td>\n",
       "      <td>0.000000</td>\n",
       "      <td>1.000000</td>\n",
       "      <td>...</td>\n",
       "      <td>0.000000e+00</td>\n",
       "      <td>1.000000</td>\n",
       "      <td>0.000000</td>\n",
       "      <td>0.000000</td>\n",
       "      <td>0.000000</td>\n",
       "      <td>0.000000</td>\n",
       "      <td>0.000000</td>\n",
       "      <td>255.000000</td>\n",
       "      <td>0.000000</td>\n",
       "      <td>0.000000</td>\n",
       "    </tr>\n",
       "    <tr>\n",
       "      <th>max</th>\n",
       "      <td>1.000000</td>\n",
       "      <td>1.000000</td>\n",
       "      <td>993.000000</td>\n",
       "      <td>1.000000</td>\n",
       "      <td>2.000000</td>\n",
       "      <td>0.0</td>\n",
       "      <td>1.000000</td>\n",
       "      <td>1.000000</td>\n",
       "      <td>1.000000</td>\n",
       "      <td>1.000000</td>\n",
       "      <td>...</td>\n",
       "      <td>5.155468e+06</td>\n",
       "      <td>1.000000</td>\n",
       "      <td>3.000000</td>\n",
       "      <td>1.000000</td>\n",
       "      <td>5.000000</td>\n",
       "      <td>1.000000</td>\n",
       "      <td>58329.000000</td>\n",
       "      <td>255.000000</td>\n",
       "      <td>28.000000</td>\n",
       "      <td>884.000000</td>\n",
       "    </tr>\n",
       "  </tbody>\n",
       "</table>\n",
       "<p>8 rows × 34 columns</p>\n",
       "</div>"
      ],
      "text/plain": [
       "       srv_serror_rate  dst_host_diff_srv_rate       num_root  \\\n",
       "count    494021.000000           494021.000000  494021.000000   \n",
       "mean          0.176609                0.030906       0.011352   \n",
       "std           0.381017                0.109259       2.012718   \n",
       "min           0.000000                0.000000       0.000000   \n",
       "25%           0.000000                0.000000       0.000000   \n",
       "50%           0.000000                0.000000       0.000000   \n",
       "75%           0.000000                0.040000       0.000000   \n",
       "max           1.000000                1.000000     993.000000   \n",
       "\n",
       "       dst_host_srv_rerror_rate     num_shells  num_outbound_cmds  \\\n",
       "count             494021.000000  494021.000000           494021.0   \n",
       "mean                   0.057412       0.000109                0.0   \n",
       "std                    0.230140       0.011020                0.0   \n",
       "min                    0.000000       0.000000                0.0   \n",
       "25%                    0.000000       0.000000                0.0   \n",
       "50%                    0.000000       0.000000                0.0   \n",
       "75%                    0.000000       0.000000                0.0   \n",
       "max                    1.000000       2.000000                0.0   \n",
       "\n",
       "       dst_host_srv_serror_rate  srv_diff_host_rate  \\\n",
       "count             494021.000000       494021.000000   \n",
       "mean                   0.176443            0.028996   \n",
       "std                    0.380919            0.142397   \n",
       "min                    0.000000            0.000000   \n",
       "25%                    0.000000            0.000000   \n",
       "50%                    0.000000            0.000000   \n",
       "75%                    0.000000            0.000000   \n",
       "max                    1.000000            1.000000   \n",
       "\n",
       "       dst_host_srv_diff_host_rate  same_srv_rate       ...         \\\n",
       "count                494021.000000  494021.000000       ...          \n",
       "mean                      0.006684       0.791547       ...          \n",
       "std                       0.042133       0.388189       ...          \n",
       "min                       0.000000       0.000000       ...          \n",
       "25%                       0.000000       1.000000       ...          \n",
       "50%                       0.000000       1.000000       ...          \n",
       "75%                       0.000000       1.000000       ...          \n",
       "max                       1.000000       1.000000       ...          \n",
       "\n",
       "          dst_bytes  dst_host_same_src_port_rate  wrong_fragment  \\\n",
       "count  4.940210e+05                494021.000000   494021.000000   \n",
       "mean   8.685315e+02                     0.601935        0.006433   \n",
       "std    3.304000e+04                     0.481309        0.134805   \n",
       "min    0.000000e+00                     0.000000        0.000000   \n",
       "25%    0.000000e+00                     0.000000        0.000000   \n",
       "50%    0.000000e+00                     1.000000        0.000000   \n",
       "75%    0.000000e+00                     1.000000        0.000000   \n",
       "max    5.155468e+06                     1.000000        3.000000   \n",
       "\n",
       "       diff_srv_rate  num_failed_logins     root_shell       duration  \\\n",
       "count  494021.000000      494021.000000  494021.000000  494021.000000   \n",
       "mean        0.020982           0.000152       0.000111      47.979302   \n",
       "std         0.082205           0.015520       0.010551     707.746472   \n",
       "min         0.000000           0.000000       0.000000       0.000000   \n",
       "25%         0.000000           0.000000       0.000000       0.000000   \n",
       "50%         0.000000           0.000000       0.000000       0.000000   \n",
       "75%         0.000000           0.000000       0.000000       0.000000   \n",
       "max         1.000000           5.000000       1.000000   58329.000000   \n",
       "\n",
       "       dst_host_count  num_file_creations  num_compromised  \n",
       "count   494021.000000       494021.000000    494021.000000  \n",
       "mean       232.470790            0.001083         0.010212  \n",
       "std         64.745337            0.096416         1.798326  \n",
       "min          0.000000            0.000000         0.000000  \n",
       "25%        255.000000            0.000000         0.000000  \n",
       "50%        255.000000            0.000000         0.000000  \n",
       "75%        255.000000            0.000000         0.000000  \n",
       "max        255.000000           28.000000       884.000000  \n",
       "\n",
       "[8 rows x 34 columns]"
      ]
     },
     "execution_count": 29,
     "metadata": {},
     "output_type": "execute_result"
    }
   ],
   "source": [
    "x_train_cont.describe()"
   ]
  },
  {
   "cell_type": "code",
   "execution_count": 30,
   "metadata": {},
   "outputs": [
    {
     "data": {
      "text/plain": [
       "<matplotlib.axes._subplots.AxesSubplot at 0x7f45dbc17668>"
      ]
     },
     "execution_count": 30,
     "metadata": {},
     "output_type": "execute_result"
    },
    {
     "data": {
      "image/png": "[encoded data removed]",
      "text/plain": [
       "<matplotlib.figure.Figure at 0x7f45eeb428d0>"
      ]
     },
     "metadata": {},
     "output_type": "display_data"
    }
   ],
   "source": [
    "sns.distplot(x_train_cont['num_root'])"
   ]
  },
  {
   "cell_type": "code",
   "execution_count": 31,
   "metadata": {
    "collapsed": true
   },
   "outputs": [],
   "source": [
    "x_train_cont['num_root'].value_counts()\n",
    "x_train_cont.drop(['num_root'],axis=1,inplace=True)\n",
    "#num_root can be removed too"
   ]
  },
  {
   "cell_type": "code",
   "execution_count": 32,
   "metadata": {},
   "outputs": [
    {
     "data": {
      "text/plain": [
       "0    493966\n",
       "1        55\n",
       "Name: root_shell, dtype: int64"
      ]
     },
     "execution_count": 32,
     "metadata": {},
     "output_type": "execute_result"
    }
   ],
   "source": [
    "x_train_cont['root_shell'].value_counts()\n",
    "#categorical features "
   ]
  },
  {
   "cell_type": "code",
   "execution_count": 33,
   "metadata": {},
   "outputs": [
    {
     "data": {
      "text/plain": [
       "0    494009\n",
       "2         6\n",
       "1         6\n",
       "Name: su_attempted, dtype: int64"
      ]
     },
     "execution_count": 33,
     "metadata": {},
     "output_type": "execute_result"
    }
   ],
   "source": [
    "x_train_cont['su_attempted'].value_counts()\n",
    "# continous feature to be deleted"
   ]
  },
  {
   "cell_type": "code",
   "execution_count": null,
   "metadata": {
    "collapsed": true
   },
   "outputs": [],
   "source": [
    "x_train_cont['num_file_creations'].value_counts()"
   ]
  },
  {
   "cell_type": "code",
   "execution_count": null,
   "metadata": {
    "collapsed": true
   },
   "outputs": [],
   "source": [
    "x_train_cont['num_shells'].value_counts()"
   ]
  },
  {
   "cell_type": "code",
   "execution_count": 34,
   "metadata": {
    "collapsed": true
   },
   "outputs": [],
   "source": [
    "list = ['num_root','num_shells','su_attempted','root_shell','num_file_creations','num_access_files','num_outbound_cmds',\n",
    "       'srv_count','count','']"
   ]
  },
  {
   "cell_type": "code",
   "execution_count": null,
   "metadata": {
    "collapsed": true
   },
   "outputs": [],
   "source": [
    "# saving plots as files for more viewing \n",
    "hist_plot=[]\n",
    "for features in list(x_train_cont.columns):\n",
    "    fig=sns.countplot(x_train_cont[features])\n",
    "    fig.get_figure().savefig('fig_{}'.format(features))"
   ]
  },
  {
   "cell_type": "markdown",
   "metadata": {},
   "source": []
  },
  {
   "cell_type": "code",
   "execution_count": 36,
   "metadata": {},
   "outputs": [
    {
     "data": {
      "text/plain": [
       "0    494009\n",
       "2         6\n",
       "1         6\n",
       "Name: su_attempted, dtype: int64"
      ]
     },
     "execution_count": 36,
     "metadata": {},
     "output_type": "execute_result"
    }
   ],
   "source": [
    "x_train_cont['su_attempted'].value_counts()"
   ]
  },
  {
   "cell_type": "code",
   "execution_count": 37,
   "metadata": {},
   "outputs": [
    {
     "data": {
      "text/plain": [
       "0    493970\n",
       "1        48\n",
       "2         3\n",
       "Name: num_shells, dtype: int64"
      ]
     },
     "execution_count": 37,
     "metadata": {},
     "output_type": "execute_result"
    }
   ],
   "source": [
    "x_train_cont['num_shells'].value_counts()"
   ]
  },
  {
   "cell_type": "code",
   "execution_count": 39,
   "metadata": {},
   "outputs": [
    {
     "data": {
      "text/html": [
       "<div>\n",
       "<style>\n",
       "    .dataframe thead tr:only-child th {\n",
       "        text-align: right;\n",
       "    }\n",
       "\n",
       "    .dataframe thead th {\n",
       "        text-align: left;\n",
       "    }\n",
       "\n",
       "    .dataframe tbody tr th {\n",
       "        vertical-align: top;\n",
       "    }\n",
       "</style>\n",
       "<table border=\"1\" class=\"dataframe\">\n",
       "  <thead>\n",
       "    <tr style=\"text-align: right;\">\n",
       "      <th></th>\n",
       "      <th>srv_serror_rate</th>\n",
       "      <th>dst_host_diff_srv_rate</th>\n",
       "      <th>dst_host_srv_rerror_rate</th>\n",
       "      <th>num_shells</th>\n",
       "      <th>num_outbound_cmds</th>\n",
       "      <th>dst_host_srv_serror_rate</th>\n",
       "      <th>srv_diff_host_rate</th>\n",
       "      <th>dst_host_srv_diff_host_rate</th>\n",
       "      <th>same_srv_rate</th>\n",
       "      <th>dst_host_same_srv_rate</th>\n",
       "      <th>...</th>\n",
       "      <th>dst_bytes</th>\n",
       "      <th>dst_host_same_src_port_rate</th>\n",
       "      <th>wrong_fragment</th>\n",
       "      <th>diff_srv_rate</th>\n",
       "      <th>num_failed_logins</th>\n",
       "      <th>root_shell</th>\n",
       "      <th>duration</th>\n",
       "      <th>dst_host_count</th>\n",
       "      <th>num_file_creations</th>\n",
       "      <th>num_compromised</th>\n",
       "    </tr>\n",
       "  </thead>\n",
       "  <tbody>\n",
       "    <tr>\n",
       "      <th>count</th>\n",
       "      <td>494021.000000</td>\n",
       "      <td>494021.000000</td>\n",
       "      <td>494021.000000</td>\n",
       "      <td>494021.000000</td>\n",
       "      <td>494021.0</td>\n",
       "      <td>494021.000000</td>\n",
       "      <td>494021.000000</td>\n",
       "      <td>494021.000000</td>\n",
       "      <td>494021.000000</td>\n",
       "      <td>494021.000000</td>\n",
       "      <td>...</td>\n",
       "      <td>4.940210e+05</td>\n",
       "      <td>494021.000000</td>\n",
       "      <td>494021.000000</td>\n",
       "      <td>494021.000000</td>\n",
       "      <td>494021.000000</td>\n",
       "      <td>494021.000000</td>\n",
       "      <td>494021.000000</td>\n",
       "      <td>494021.000000</td>\n",
       "      <td>494021.000000</td>\n",
       "      <td>494021.000000</td>\n",
       "    </tr>\n",
       "    <tr>\n",
       "      <th>mean</th>\n",
       "      <td>0.176609</td>\n",
       "      <td>0.030906</td>\n",
       "      <td>0.057412</td>\n",
       "      <td>0.000109</td>\n",
       "      <td>0.0</td>\n",
       "      <td>0.176443</td>\n",
       "      <td>0.028996</td>\n",
       "      <td>0.006684</td>\n",
       "      <td>0.791547</td>\n",
       "      <td>0.753782</td>\n",
       "      <td>...</td>\n",
       "      <td>8.685315e+02</td>\n",
       "      <td>0.601935</td>\n",
       "      <td>0.006433</td>\n",
       "      <td>0.020982</td>\n",
       "      <td>0.000152</td>\n",
       "      <td>0.000111</td>\n",
       "      <td>47.979302</td>\n",
       "      <td>232.470790</td>\n",
       "      <td>0.001083</td>\n",
       "      <td>0.010212</td>\n",
       "    </tr>\n",
       "    <tr>\n",
       "      <th>std</th>\n",
       "      <td>0.381017</td>\n",
       "      <td>0.109259</td>\n",
       "      <td>0.230140</td>\n",
       "      <td>0.011020</td>\n",
       "      <td>0.0</td>\n",
       "      <td>0.380919</td>\n",
       "      <td>0.142397</td>\n",
       "      <td>0.042133</td>\n",
       "      <td>0.388189</td>\n",
       "      <td>0.410780</td>\n",
       "      <td>...</td>\n",
       "      <td>3.304000e+04</td>\n",
       "      <td>0.481309</td>\n",
       "      <td>0.134805</td>\n",
       "      <td>0.082205</td>\n",
       "      <td>0.015520</td>\n",
       "      <td>0.010551</td>\n",
       "      <td>707.746472</td>\n",
       "      <td>64.745337</td>\n",
       "      <td>0.096416</td>\n",
       "      <td>1.798326</td>\n",
       "    </tr>\n",
       "    <tr>\n",
       "      <th>min</th>\n",
       "      <td>0.000000</td>\n",
       "      <td>0.000000</td>\n",
       "      <td>0.000000</td>\n",
       "      <td>0.000000</td>\n",
       "      <td>0.0</td>\n",
       "      <td>0.000000</td>\n",
       "      <td>0.000000</td>\n",
       "      <td>0.000000</td>\n",
       "      <td>0.000000</td>\n",
       "      <td>0.000000</td>\n",
       "      <td>...</td>\n",
       "      <td>0.000000e+00</td>\n",
       "      <td>0.000000</td>\n",
       "      <td>0.000000</td>\n",
       "      <td>0.000000</td>\n",
       "      <td>0.000000</td>\n",
       "      <td>0.000000</td>\n",
       "      <td>0.000000</td>\n",
       "      <td>0.000000</td>\n",
       "      <td>0.000000</td>\n",
       "      <td>0.000000</td>\n",
       "    </tr>\n",
       "    <tr>\n",
       "      <th>25%</th>\n",
       "      <td>0.000000</td>\n",
       "      <td>0.000000</td>\n",
       "      <td>0.000000</td>\n",
       "      <td>0.000000</td>\n",
       "      <td>0.0</td>\n",
       "      <td>0.000000</td>\n",
       "      <td>0.000000</td>\n",
       "      <td>0.000000</td>\n",
       "      <td>1.000000</td>\n",
       "      <td>0.410000</td>\n",
       "      <td>...</td>\n",
       "      <td>0.000000e+00</td>\n",
       "      <td>0.000000</td>\n",
       "      <td>0.000000</td>\n",
       "      <td>0.000000</td>\n",
       "      <td>0.000000</td>\n",
       "      <td>0.000000</td>\n",
       "      <td>0.000000</td>\n",
       "      <td>255.000000</td>\n",
       "      <td>0.000000</td>\n",
       "      <td>0.000000</td>\n",
       "    </tr>\n",
       "    <tr>\n",
       "      <th>50%</th>\n",
       "      <td>0.000000</td>\n",
       "      <td>0.000000</td>\n",
       "      <td>0.000000</td>\n",
       "      <td>0.000000</td>\n",
       "      <td>0.0</td>\n",
       "      <td>0.000000</td>\n",
       "      <td>0.000000</td>\n",
       "      <td>0.000000</td>\n",
       "      <td>1.000000</td>\n",
       "      <td>1.000000</td>\n",
       "      <td>...</td>\n",
       "      <td>0.000000e+00</td>\n",
       "      <td>1.000000</td>\n",
       "      <td>0.000000</td>\n",
       "      <td>0.000000</td>\n",
       "      <td>0.000000</td>\n",
       "      <td>0.000000</td>\n",
       "      <td>0.000000</td>\n",
       "      <td>255.000000</td>\n",
       "      <td>0.000000</td>\n",
       "      <td>0.000000</td>\n",
       "    </tr>\n",
       "    <tr>\n",
       "      <th>75%</th>\n",
       "      <td>0.000000</td>\n",
       "      <td>0.040000</td>\n",
       "      <td>0.000000</td>\n",
       "      <td>0.000000</td>\n",
       "      <td>0.0</td>\n",
       "      <td>0.000000</td>\n",
       "      <td>0.000000</td>\n",
       "      <td>0.000000</td>\n",
       "      <td>1.000000</td>\n",
       "      <td>1.000000</td>\n",
       "      <td>...</td>\n",
       "      <td>0.000000e+00</td>\n",
       "      <td>1.000000</td>\n",
       "      <td>0.000000</td>\n",
       "      <td>0.000000</td>\n",
       "      <td>0.000000</td>\n",
       "      <td>0.000000</td>\n",
       "      <td>0.000000</td>\n",
       "      <td>255.000000</td>\n",
       "      <td>0.000000</td>\n",
       "      <td>0.000000</td>\n",
       "    </tr>\n",
       "    <tr>\n",
       "      <th>max</th>\n",
       "      <td>1.000000</td>\n",
       "      <td>1.000000</td>\n",
       "      <td>1.000000</td>\n",
       "      <td>2.000000</td>\n",
       "      <td>0.0</td>\n",
       "      <td>1.000000</td>\n",
       "      <td>1.000000</td>\n",
       "      <td>1.000000</td>\n",
       "      <td>1.000000</td>\n",
       "      <td>1.000000</td>\n",
       "      <td>...</td>\n",
       "      <td>5.155468e+06</td>\n",
       "      <td>1.000000</td>\n",
       "      <td>3.000000</td>\n",
       "      <td>1.000000</td>\n",
       "      <td>5.000000</td>\n",
       "      <td>1.000000</td>\n",
       "      <td>58329.000000</td>\n",
       "      <td>255.000000</td>\n",
       "      <td>28.000000</td>\n",
       "      <td>884.000000</td>\n",
       "    </tr>\n",
       "  </tbody>\n",
       "</table>\n",
       "<p>8 rows × 33 columns</p>\n",
       "</div>"
      ],
      "text/plain": [
       "       srv_serror_rate  dst_host_diff_srv_rate  dst_host_srv_rerror_rate  \\\n",
       "count    494021.000000           494021.000000             494021.000000   \n",
       "mean          0.176609                0.030906                  0.057412   \n",
       "std           0.381017                0.109259                  0.230140   \n",
       "min           0.000000                0.000000                  0.000000   \n",
       "25%           0.000000                0.000000                  0.000000   \n",
       "50%           0.000000                0.000000                  0.000000   \n",
       "75%           0.000000                0.040000                  0.000000   \n",
       "max           1.000000                1.000000                  1.000000   \n",
       "\n",
       "          num_shells  num_outbound_cmds  dst_host_srv_serror_rate  \\\n",
       "count  494021.000000           494021.0             494021.000000   \n",
       "mean        0.000109                0.0                  0.176443   \n",
       "std         0.011020                0.0                  0.380919   \n",
       "min         0.000000                0.0                  0.000000   \n",
       "25%         0.000000                0.0                  0.000000   \n",
       "50%         0.000000                0.0                  0.000000   \n",
       "75%         0.000000                0.0                  0.000000   \n",
       "max         2.000000                0.0                  1.000000   \n",
       "\n",
       "       srv_diff_host_rate  dst_host_srv_diff_host_rate  same_srv_rate  \\\n",
       "count       494021.000000                494021.000000  494021.000000   \n",
       "mean             0.028996                     0.006684       0.791547   \n",
       "std              0.142397                     0.042133       0.388189   \n",
       "min              0.000000                     0.000000       0.000000   \n",
       "25%              0.000000                     0.000000       1.000000   \n",
       "50%              0.000000                     0.000000       1.000000   \n",
       "75%              0.000000                     0.000000       1.000000   \n",
       "max              1.000000                     1.000000       1.000000   \n",
       "\n",
       "       dst_host_same_srv_rate       ...            dst_bytes  \\\n",
       "count           494021.000000       ...         4.940210e+05   \n",
       "mean                 0.753782       ...         8.685315e+02   \n",
       "std                  0.410780       ...         3.304000e+04   \n",
       "min                  0.000000       ...         0.000000e+00   \n",
       "25%                  0.410000       ...         0.000000e+00   \n",
       "50%                  1.000000       ...         0.000000e+00   \n",
       "75%                  1.000000       ...         0.000000e+00   \n",
       "max                  1.000000       ...         5.155468e+06   \n",
       "\n",
       "       dst_host_same_src_port_rate  wrong_fragment  diff_srv_rate  \\\n",
       "count                494021.000000   494021.000000  494021.000000   \n",
       "mean                      0.601935        0.006433       0.020982   \n",
       "std                       0.481309        0.134805       0.082205   \n",
       "min                       0.000000        0.000000       0.000000   \n",
       "25%                       0.000000        0.000000       0.000000   \n",
       "50%                       1.000000        0.000000       0.000000   \n",
       "75%                       1.000000        0.000000       0.000000   \n",
       "max                       1.000000        3.000000       1.000000   \n",
       "\n",
       "       num_failed_logins     root_shell       duration  dst_host_count  \\\n",
       "count      494021.000000  494021.000000  494021.000000   494021.000000   \n",
       "mean            0.000152       0.000111      47.979302      232.470790   \n",
       "std             0.015520       0.010551     707.746472       64.745337   \n",
       "min             0.000000       0.000000       0.000000        0.000000   \n",
       "25%             0.000000       0.000000       0.000000      255.000000   \n",
       "50%             0.000000       0.000000       0.000000      255.000000   \n",
       "75%             0.000000       0.000000       0.000000      255.000000   \n",
       "max             5.000000       1.000000   58329.000000      255.000000   \n",
       "\n",
       "       num_file_creations  num_compromised  \n",
       "count       494021.000000    494021.000000  \n",
       "mean             0.001083         0.010212  \n",
       "std              0.096416         1.798326  \n",
       "min              0.000000         0.000000  \n",
       "25%              0.000000         0.000000  \n",
       "50%              0.000000         0.000000  \n",
       "75%              0.000000         0.000000  \n",
       "max             28.000000       884.000000  \n",
       "\n",
       "[8 rows x 33 columns]"
      ]
     },
     "execution_count": 39,
     "metadata": {},
     "output_type": "execute_result"
    }
   ],
   "source": [
    "x_train_cont.describe()"
   ]
  },
  {
   "cell_type": "code",
   "execution_count": 40,
   "metadata": {},
   "outputs": [
    {
     "data": {
      "text/plain": [
       "VarianceThreshold(threshold=0.0)"
      ]
     },
     "execution_count": 40,
     "metadata": {},
     "output_type": "execute_result"
    }
   ],
   "source": [
    "fea_variance.fit(x_train_cont)"
   ]
  },
  {
   "cell_type": "code",
   "execution_count": 41,
   "metadata": {},
   "outputs": [
    {
     "data": {
      "text/plain": [
       "array([  1.45173344e-01,   1.19375294e-02,   5.29644615e-02,\n",
       "         1.21440379e-04,   0.00000000e+00,   1.45099325e-01,\n",
       "         2.02768391e-02,   1.77517922e-03,   1.50690777e-01,\n",
       "         1.68739642e-01,   5.38921119e-02,   4.54317207e+04,\n",
       "         1.12444884e+04,   6.11683210e-01,   6.06747790e+04,\n",
       "         1.44945107e-01,   9.76573038e+11,   5.31714131e-02,\n",
       "         1.33091101e-03,   3.03628810e-05,   5.36493250e-02,\n",
       "         1.44850813e-01,   6.07248359e-05,   1.09163947e+09,\n",
       "         2.31657771e-01,   1.81724181e-02,   6.75772938e-03,\n",
       "         2.40857400e-04,   1.11318905e-04,   5.00904055e+05,\n",
       "         4.19195022e+03,   9.29600285e-03,   3.23397078e+00])"
      ]
     },
     "execution_count": 41,
     "metadata": {},
     "output_type": "execute_result"
    }
   ],
   "source": [
    "fea_variance.variances_"
   ]
  },
  {
   "cell_type": "code",
   "execution_count": 43,
   "metadata": {
    "collapsed": true
   },
   "outputs": [],
   "source": [
    "feature_var_map=[]\n",
    "for (x,y) in zip(x_train_cont.axes[1].values,fea_variance.variances_):\n",
    "    feature_var_map.append([x,y])\n",
    "\n"
   ]
  },
  {
   "cell_type": "code",
   "execution_count": 44,
   "metadata": {},
   "outputs": [
    {
     "data": {
      "text/plain": [
       "[['srv_serror_rate', 0.14517334378180755],\n",
       " ['dst_host_diff_srv_rate', 0.011937529438598236],\n",
       " ['dst_host_srv_rerror_rate', 0.052964461483812258],\n",
       " ['num_shells', 0.00012144037888452375],\n",
       " ['num_outbound_cmds', 0.0],\n",
       " ['dst_host_srv_serror_rate', 0.14509932525520092],\n",
       " ['srv_diff_host_rate', 0.020276839111425481],\n",
       " ['dst_host_srv_diff_host_rate', 0.0017751792208406635],\n",
       " ['same_srv_rate', 0.15069077747700041],\n",
       " ['dst_host_same_srv_rate', 0.16873964244068937],\n",
       " ['srv_rerror_rate', 0.053892111873411419],\n",
       " ['count', 45431.720679228965],\n",
       " ['dst_host_srv_count', 11244.488395111823],\n",
       " ['hot', 0.61168321047303098],\n",
       " ['srv_count', 60674.779040223359],\n",
       " ['serror_rate', 0.14494510744434741],\n",
       " ['src_bytes', 976573038456.45569],\n",
       " ['dst_host_rerror_rate', 0.05317141313952526],\n",
       " ['num_access_files', 0.0013309110117826729],\n",
       " ['urgent', 3.0362880958366171e-05],\n",
       " ['rerror_rate', 0.053649325009590215],\n",
       " ['dst_host_serror_rate', 0.14485081266595995],\n",
       " ['su_attempted', 6.0724835902592428e-05],\n",
       " ['dst_bytes', 1091639471.9561987],\n",
       " ['dst_host_same_src_port_rate', 0.2316577705870273],\n",
       " ['wrong_fragment', 0.018172418104931753],\n",
       " ['diff_srv_rate', 0.0067577293834729059],\n",
       " ['num_failed_logins', 0.00024085740048368476],\n",
       " ['root_shell', 0.0001113189050233035],\n",
       " ['duration', 500904.05512593186],\n",
       " ['dst_host_count', 4191.9502201947143],\n",
       " ['num_file_creations', 0.009296002845618774],\n",
       " ['num_compromised', 3.2339707823600863]]"
      ]
     },
     "execution_count": 44,
     "metadata": {},
     "output_type": "execute_result"
    }
   ],
   "source": [
    "feature_var_map"
   ]
  },
  {
   "cell_type": "code",
   "execution_count": 45,
   "metadata": {},
   "outputs": [
    {
     "data": {
      "text/plain": [
       "<matplotlib.axes._subplots.AxesSubplot at 0x7f45dbbdfc88>"
      ]
     },
     "execution_count": 45,
     "metadata": {},
     "output_type": "execute_result"
    },
    {
     "data": {
      "image/png": "[encoded data removed]",
      "text/plain": [
       "<matplotlib.figure.Figure at 0x7f45dbc51a58>"
      ]
     },
     "metadata": {},
     "output_type": "display_data"
    }
   ],
   "source": [
    "sns.barplot(x=[feature_var_map[i][0] for i in range(len(feature_var_map))],y=[feature_var_map[i][1] for i in range(len(feature_var_map))])\n",
    "\n",
    "# one feature has abnormally high variance\n",
    "# time to do something about it"
   ]
  },
  {
   "cell_type": "code",
   "execution_count": null,
   "metadata": {
    "collapsed": true
   },
   "outputs": [],
   "source": [
    "feature_var_map"
   ]
  },
  {
   "cell_type": "code",
   "execution_count": 46,
   "metadata": {
    "collapsed": true
   },
   "outputs": [],
   "source": [
    "x_train_cont['num_outbound_cmds'].value_counts()\n",
    "\n",
    "#deserve to be deleted \n",
    "x_train_cont.drop(['num_outbound_cmds'],axis=1,inplace=True)"
   ]
  },
  {
   "cell_type": "code",
   "execution_count": 47,
   "metadata": {},
   "outputs": [
    {
     "data": {
      "text/plain": [
       "count    4.940210e+05\n",
       "mean     3.025610e+03\n",
       "std      9.882181e+05\n",
       "min      0.000000e+00\n",
       "25%      4.500000e+01\n",
       "50%      5.200000e+02\n",
       "75%      1.032000e+03\n",
       "max      6.933756e+08\n",
       "Name: src_bytes, dtype: float64"
      ]
     },
     "execution_count": 47,
     "metadata": {},
     "output_type": "execute_result"
    }
   ],
   "source": [
    "x_train_cont['src_bytes'].describe()"
   ]
  },
  {
   "cell_type": "markdown",
   "metadata": {
    "collapsed": true
   },
   "source": [
    "# Feature selection using random forest \n",
    "\n",
    "Most important features are selected on the basis of variable importance"
   ]
  },
  {
   "cell_type": "code",
   "execution_count": 8,
   "metadata": {
    "collapsed": true
   },
   "outputs": [],
   "source": [
    "import os \n",
    "root=os.getcwd()"
   ]
  },
  {
   "cell_type": "code",
   "execution_count": 9,
   "metadata": {
    "collapsed": true
   },
   "outputs": [],
   "source": [
    "rf=RandomForestClassifier(max_depth=25, random_state=0)\n"
   ]
  },
  {
   "cell_type": "code",
   "execution_count": 10,
   "metadata": {},
   "outputs": [
    {
     "name": "stdout",
     "output_type": "stream",
     "text": [
      "Datasets loaded :)\n",
      "The dimensions of the training dataset is (145583, 41)\n",
      "The dimensions of test dataset is (311028, 41)\n",
      "The taken to load data is 3.42 secs\n"
     ]
    }
   ],
   "source": [
    "x_train,y_train,x_test,y_test = fetch_data(root,remove_duplicates=True,binary=True)\n",
    "x_train = feature_engineering(x_train,do_normalization=True)"
   ]
  },
  {
   "cell_type": "code",
   "execution_count": 11,
   "metadata": {},
   "outputs": [
    {
     "data": {
      "text/plain": [
       "RandomForestClassifier(bootstrap=True, class_weight=None, criterion='gini',\n",
       "            max_depth=25, max_features='auto', max_leaf_nodes=None,\n",
       "            min_impurity_split=1e-07, min_samples_leaf=1,\n",
       "            min_samples_split=2, min_weight_fraction_leaf=0.0,\n",
       "            n_estimators=10, n_jobs=1, oob_score=False, random_state=0,\n",
       "            verbose=0, warm_start=False)"
      ]
     },
     "execution_count": 11,
     "metadata": {},
     "output_type": "execute_result"
    }
   ],
   "source": [
    "rf.fit(x_train,y_train)"
   ]
  },
  {
   "cell_type": "code",
   "execution_count": 12,
   "metadata": {},
   "outputs": [
    {
     "data": {
      "text/plain": [
       "array([  4.44830334e-02,   1.67968046e-03,   1.39516021e-02,\n",
       "         1.70888952e-04,   1.35542028e-04,   1.51164853e-05,\n",
       "         4.12255142e-05,   2.53849439e-03,   3.46606207e-01,\n",
       "         6.83704941e-03,   9.83799857e-04,   1.99229941e-03,\n",
       "         1.63905989e-03,   1.83815295e-03,   8.85624305e-02,\n",
       "         1.35734780e-01,   8.66776994e-04,   7.34264234e-03,\n",
       "         5.60677010e-03,   4.62370386e-03,   6.52898597e-02,\n",
       "         4.58944236e-02,   5.33413987e-03,   8.70891951e-03,\n",
       "         8.72097791e-03,   6.49136955e-03,   3.11628007e-03,\n",
       "         2.85739548e-03,   2.29891784e-03,   6.68950624e-04,\n",
       "         6.59911408e-03,   8.58150226e-02,   4.06640173e-05,\n",
       "         6.20015883e-02,   2.58178309e-02,   1.24757956e-03,\n",
       "         2.15408975e-03,   1.29362135e-03])"
      ]
     },
     "execution_count": 12,
     "metadata": {},
     "output_type": "execute_result"
    }
   ],
   "source": [
    "rf.feature_importances_"
   ]
  },
  {
   "cell_type": "code",
   "execution_count": 13,
   "metadata": {
    "collapsed": true
   },
   "outputs": [],
   "source": [
    "importances=[]\n",
    "for (x,y) in zip((x_train.axes[1].values),rf.feature_importances_):\n",
    "    importances.append([x,y])\n",
    "    "
   ]
  },
  {
   "cell_type": "code",
   "execution_count": 16,
   "metadata": {},
   "outputs": [
    {
     "data": {
      "text/plain": [
       "['dst_bytes',\n",
       " 'logged_in',\n",
       " 'num_compromised',\n",
       " 'root_shell',\n",
       " 'num_file_creations',\n",
       " 'num_shells',\n",
       " 'num_access_files',\n",
       " 'is_guest_login',\n",
       " 'count',\n",
       " 'srv_count',\n",
       " 'serror_rate',\n",
       " 'srv_serror_rate',\n",
       " 'rerror_rate',\n",
       " 'srv_rerror_rate',\n",
       " 'same_srv_rate',\n",
       " 'diff_srv_rate',\n",
       " 'srv_diff_host_rate',\n",
       " 'dst_host_count',\n",
       " 'dst_host_srv_count',\n",
       " 'dst_host_same_srv_rate',\n",
       " 'dst_host_diff_srv_rate',\n",
       " 'dst_host_same_src_port_rate',\n",
       " 'dst_host_srv_diff_host_rate',\n",
       " 'dst_host_serror_rate',\n",
       " 'dst_host_srv_serror_rate',\n",
       " 'dst_host_rerror_rate',\n",
       " 'dst_host_srv_rerror_rate',\n",
       " 'service_ftp_data',\n",
       " 'service_http',\n",
       " 'service_other',\n",
       " 'service_others',\n",
       " 'service_private',\n",
       " 'service_smtp',\n",
       " 'flag_S0',\n",
       " 'flag_SF',\n",
       " 'flag_others',\n",
       " 'protocol_type_tcp',\n",
       " 'protocol_type_udp']"
      ]
     },
     "execution_count": 16,
     "metadata": {},
     "output_type": "execute_result"
    }
   ],
   "source": [
    "[i[0] for i in importances]"
   ]
  },
  {
   "cell_type": "code",
   "execution_count": 19,
   "metadata": {},
   "outputs": [
    {
     "data": {
      "text/plain": [
       "<matplotlib.axes._subplots.AxesSubplot at 0x7f199bcba9e8>"
      ]
     },
     "execution_count": 19,
     "metadata": {},
     "output_type": "execute_result"
    },
    {
     "data": {
      "image/png": "[encoded data removed]",
      "text/plain": [
       "<matplotlib.figure.Figure at 0x7f199bc80a90>"
      ]
     },
     "metadata": {},
     "output_type": "display_data"
    }
   ],
   "source": [
    "fig, axes = plt.subplots(figsize=(20,10))        \n",
    "sns.barplot(x=np.sort([i[1] for i in importances]),y=[i[0] for i in importances])"
   ]
  },
  {
   "cell_type": "code",
   "execution_count": null,
   "metadata": {
    "collapsed": true
   },
   "outputs": [],
   "source": []
  }
 ],
 "metadata": {
  "kernelspec": {
   "display_name": "Python 3",
   "language": "python",
   "name": "python3"
  },
  "language_info": {
   "codemirror_mode": {
    "name": "ipython",
    "version": 3
   },
   "file_extension": ".py",
   "mimetype": "text/x-python",
   "name": "python",
   "nbconvert_exporter": "python",
   "pygments_lexer": "ipython3",
   "version": "3.6.1"
  }
 },
 "nbformat": 4,
 "nbformat_minor": 2
}
