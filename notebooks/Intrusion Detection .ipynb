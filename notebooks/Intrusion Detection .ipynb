{
 "cells": [
  {
   "cell_type": "markdown",
   "metadata": {},
   "source": [
    "# Problem Statement \n",
    "\n",
    "The problem statement is to detect intrusions from a tcp dump.The data is provided in csv files so no feature extraction is involved "
   ]
  },
  {
   "cell_type": "code",
   "execution_count": 2,
   "metadata": {},
   "outputs": [],
   "source": [
    "# run only one time\n",
    "import os \n",
    "os.chdir('/'.join(os.getcwd().split('/')[:-1]))"
   ]
  },
  {
   "cell_type": "code",
   "execution_count": 4,
   "metadata": {},
   "outputs": [],
   "source": [
    "from data import fetch_data,feature_engineering"
   ]
  },
  {
   "cell_type": "code",
   "execution_count": 6,
   "metadata": {},
   "outputs": [],
   "source": [
    "from data import fetch_data,feature_engineering\n",
    "from models.model import Model\n",
    "import numpy as np \n",
    "import pandas as pd \n",
    "import seaborn as sns \n",
    "import matplotlib.pyplot as plt \n",
    "from sklearn.metrics import f1_score,confusion_matrix,roc_curve\n",
    "from sklearn.externals import joblib\n",
    "from Para_learn import paralearn\n",
    "import pickle\n",
    "import requests\n",
    "from cross_val import k_fold_crossval\n",
    "from sklearn import preprocessing\n",
    "from aug import Sampling\n",
    "\n",
    "%matplotlib inline \n",
    "root=os.getcwd()"
   ]
  },
  {
   "cell_type": "code",
   "execution_count": 7,
   "metadata": {},
   "outputs": [
    {
     "name": "stdout",
     "output_type": "stream",
     "text": [
      "Datasets loaded :)\n",
      "The dimensions of the training dataset is (145583, 41)\n",
      "The dimensions of test dataset is (311028, 41)\n",
      "The taken to load data is 3.70 secs\n"
     ]
    }
   ],
   "source": [
    "x_train,y_train,x_test,y_test = fetch_data(root,remove_duplicates=True,binary=True)"
   ]
  },
  {
   "cell_type": "code",
   "execution_count": 3,
   "metadata": {},
   "outputs": [
    {
     "name": "stdout",
     "output_type": "stream",
     "text": [
      "Shape of training data after feature engineering is (145583, 45)\n",
      "Shape of test data after feature engineering is (311028, 45)\n"
     ]
    }
   ],
   "source": [
    "x_train = feature_engineering(x_train,do_normalization=False)\n",
    "x_test = feature_engineering(x_test,do_normalization=False)\n",
    "print('Shape of training data after feature engineering is {}'.format(x_train.shape))\n",
    "print ('Shape of test data after feature engineering is {}'.format(x_test.shape))"
   ]
  },
  {
   "cell_type": "code",
   "execution_count": 4,
   "metadata": {},
   "outputs": [
    {
     "data": {
      "text/plain": [
       "0    87814\n",
       "1    57769\n",
       "Name: label, dtype: int64"
      ]
     },
     "execution_count": 4,
     "metadata": {},
     "output_type": "execute_result"
    }
   ],
   "source": [
    "y_train.value_counts()"
   ]
  },
  {
   "cell_type": "markdown",
   "metadata": {},
   "source": [
    "# Sampling "
   ]
  },
  {
   "cell_type": "code",
   "execution_count": null,
   "metadata": {
    "collapsed": true
   },
   "outputs": [],
   "source": [
    "s = Sampling(x_train,y_train)"
   ]
  },
  {
   "cell_type": "code",
   "execution_count": null,
   "metadata": {
    "collapsed": true
   },
   "outputs": [],
   "source": [
    "data_for_modelling = s.Rand_Over_Samp(x_train,y_train)"
   ]
  },
  {
   "cell_type": "markdown",
   "metadata": {},
   "source": [
    "# Modelling in progress"
   ]
  },
  {
   "cell_type": "code",
   "execution_count": 5,
   "metadata": {
    "collapsed": true
   },
   "outputs": [],
   "source": [
    "\n",
    "clf=Model(x_train,y_train)\n"
   ]
  },
  {
   "cell_type": "code",
   "execution_count": 6,
   "metadata": {},
   "outputs": [
    {
     "name": "stdout",
     "output_type": "stream",
     "text": [
      "[[77644 10170]\n",
      " [18535 39234]]\n",
      "The f1 score for NAIVE BAYES model on training data is 0.7322\n"
     ]
    }
   ],
   "source": [
    "#NAIVE BAYES\n",
    "nb=clf.mnbayes(x_train,y_train)\n",
    "predict_train_nb=nb.predict(x_train)\n",
    "conf_matrix_nb=confusion_matrix(list(y_train),(predict_train_nb).round())\n",
    "f1_score_train_nb=f1_score(list(y_train),(predict_train_nb).round())\n",
    "fpr_nb,tpr_nb,thr_nb = roc_curve(list(y_train),(predict_train_nb))\n",
    "auc_nb=np.trapz(tpr_nb,fpr_nb)\n",
    "print (conf_matrix_nb)\n",
    "print('The f1 score for NAIVE BAYES model on training data is {:.4f}'.format(f1_score_train_nb))  \n"
   ]
  },
  {
   "cell_type": "code",
   "execution_count": 7,
   "metadata": {},
   "outputs": [
    {
     "name": "stdout",
     "output_type": "stream",
     "text": [
      "f1 score for 1 iteration................. 0.8761\n",
      "f1 score for 2 iteration................. 0.6582\n",
      "f1 score for 3 iteration................. 0.6636\n",
      "f1 score for 4 iteration................. 0.6346\n",
      "f1 score for 5 iteration................. 0.6432\n",
      "f1 score for 6 iteration................. 0.6427\n"
     ]
    }
   ],
   "source": [
    "cross_val_score_nb=k_fold_crossval(nb,x_train,y_train,6)"
   ]
  },
  {
   "cell_type": "code",
   "execution_count": 8,
   "metadata": {},
   "outputs": [
    {
     "name": "stdout",
     "output_type": "stream",
     "text": [
      "[[82620  5194]\n",
      " [ 2067 55702]]\n",
      "The f1 score for SUPPORT VECTOR MACHINES model on training data is 0.9388\n"
     ]
    }
   ],
   "source": [
    "#SVM \n",
    "svm=clf.svm(x_train,y_train)\n",
    "predict_train_svm=svm.predict(x_train)\n",
    "conf_matrix_svm=confusion_matrix(list(y_train),(predict_train_svm).round())\n",
    "f1_score_train_svm=f1_score(list(y_train),(predict_train_svm).round())\n",
    "fpr_svm,tpr_svm,thr_svm = roc_curve(list(y_train),(predict_train_svm))\n",
    "auc_svm=np.trapz(tpr_svm,fpr_svm)\n",
    "\n",
    "\n",
    "print (conf_matrix_svm)\n",
    "print('The f1 score for SUPPORT VECTOR MACHINES model on training data is {:.4f}'.format(f1_score_train_svm))\n"
   ]
  },
  {
   "cell_type": "code",
   "execution_count": 9,
   "metadata": {
    "scrolled": true
   },
   "outputs": [
    {
     "name": "stdout",
     "output_type": "stream",
     "text": [
      "f1 score for 1 iteration................. 0.9462\n",
      "f1 score for 2 iteration................. 0.9292\n",
      "f1 score for 3 iteration................. 0.9365\n",
      "f1 score for 4 iteration................. 0.9165\n",
      "f1 score for 5 iteration................. 0.9728\n",
      "f1 score for 6 iteration................. 0.9510\n"
     ]
    }
   ],
   "source": [
    "cross_val_score_svm=k_fold_crossval(svm,x_train,y_train,6)"
   ]
  },
  {
   "cell_type": "code",
   "execution_count": 10,
   "metadata": {
    "scrolled": true
   },
   "outputs": [
    {
     "name": "stdout",
     "output_type": "stream",
     "text": [
      "[0]\ttrain-auc:0.994297+0.000266011\ttest-auc:0.994209+0.000426128\n",
      "[1]\ttrain-auc:0.999001+0.000106937\ttest-auc:0.998963+0.000269452\n",
      "[2]\ttrain-auc:0.999621+5.48576e-05\ttest-auc:0.999574+5.94421e-05\n",
      "[3]\ttrain-auc:0.999758+2.82744e-05\ttest-auc:0.99973+7.18955e-05\n",
      "[4]\ttrain-auc:0.999775+1.98937e-05\ttest-auc:0.999757+7.90048e-05\n",
      "[5]\ttrain-auc:0.999803+1.37055e-05\ttest-auc:0.999784+8.77897e-05\n",
      "[6]\ttrain-auc:0.999868+2.53014e-05\ttest-auc:0.999841+6.03503e-05\n",
      "[7]\ttrain-auc:0.99991+2.56094e-05\ttest-auc:0.999853+5.47262e-05\n",
      "[8]\ttrain-auc:0.999931+2.18486e-05\ttest-auc:0.999843+6.18547e-05\n",
      "[9]\ttrain-auc:0.999963+5.95315e-06\ttest-auc:0.999877+4.56526e-05\n",
      "[[87783    31]\n",
      " [   71 57698]]\n",
      "The f1 score for XGBOOST model on training data is 0.9991\n"
     ]
    }
   ],
   "source": [
    "#XGBOOST \n",
    "xgb,x_dtrain,x_dtest=clf.xgboost(x_train,y_train,x_test,cv=True)\n",
    "predict_train_xgb=xgb.predict(x_dtrain)\n",
    "conf_matrix_xgb=confusion_matrix(list(y_train),(predict_train_xgb).round())\n",
    "f1_score_train_xgb=f1_score(list(y_train),(predict_train_xgb).round())\n",
    "fpr_xgb,tpr_xgb,thr_xgb = roc_curve(list(y_train),(predict_train_xgb))\n",
    "auc_xgb=np.trapz(tpr_xgb,fpr_xgb)\n",
    "\n",
    "\n",
    "print (conf_matrix_xgb)\n",
    "print('The f1 score for XGBOOST model on training data is {:.4f}'.format(f1_score_train_xgb))\n"
   ]
  },
  {
   "cell_type": "code",
   "execution_count": 11,
   "metadata": {},
   "outputs": [
    {
     "name": "stdout",
     "output_type": "stream",
     "text": [
      "[[87814     0]\n",
      " [   17 57752]]\n",
      "The f1 score for RANDOM FOREST model on training data is 0.9999\n"
     ]
    }
   ],
   "source": [
    "#RANDOMFOREST \n",
    "rf=clf.randforest(x_train,y_train)\n",
    "predict_train_rf=rf.predict(x_train)\n",
    "conf_matrix_rf=confusion_matrix(list(y_train),(predict_train_rf).round())\n",
    "f1_score_train_rf=f1_score(list(y_train),(predict_train_rf).round())\n",
    "fpr_rf,tpr_rf,thr_rf = roc_curve(list(y_train),(predict_train_rf))\n",
    "auc_rf=np.trapz(tpr_rf,fpr_rf)\n",
    "print (conf_matrix_rf)\n",
    "print('The f1 score for RANDOM FOREST model on training data is {:.4f}'.format(f1_score_train_rf))\n"
   ]
  },
  {
   "cell_type": "code",
   "execution_count": 12,
   "metadata": {},
   "outputs": [
    {
     "name": "stdout",
     "output_type": "stream",
     "text": [
      "f1 score for 1 iteration................. 0.9988\n",
      "f1 score for 2 iteration................. 0.9993\n",
      "f1 score for 3 iteration................. 0.9989\n",
      "f1 score for 4 iteration................. 0.9996\n",
      "f1 score for 5 iteration................. 0.9992\n",
      "f1 score for 6 iteration................. 0.9990\n"
     ]
    }
   ],
   "source": [
    "# Cross validation to check whether the model is overfitting or not \n",
    "cross_val_score_rf=k_fold_crossval(rf,x_train,y_train,6)\n"
   ]
  },
  {
   "cell_type": "markdown",
   "metadata": {},
   "source": [
    "# Model Selection \n",
    "\n",
    "\n",
    "After doing hyperparameter optimization for different models on the training data and computing a metric evaluating the generalization of a particular model,we can select which model will be our best bet for generalizing over to the unseen data "
   ]
  },
  {
   "cell_type": "code",
   "execution_count": 14,
   "metadata": {},
   "outputs": [
    {
     "data": {
      "image/png": "[encoded data removed]",
      "text/plain": [
       "<matplotlib.figure.Figure at 0x7f95605178d0>"
      ]
     },
     "metadata": {},
     "output_type": "display_data"
    }
   ],
   "source": [
    "# ROC - AUC  Plots \n",
    "plt.figure(figsize=(15,10))\n",
    "plt.plot([0,1],[0,1],'b--')\n",
    "plt.plot(fpr_nb,tpr_nb,'r',label='Naive bayes (AUC={:.2f})'.format(auc_nb))\n",
    "plt.plot(fpr_svm,tpr_svm,'g',label = 'SVM (AUC={:.2f})'.format(auc_svm))\n",
    "plt.plot(fpr_xgb,tpr_xgb,'y',label='XGboost (AUC={:.2f})'.format(auc_xgb))\n",
    "plt.plot(fpr_rf,tpr_rf,'k',label='Randomforest (AUC={:.2f})'.format(auc_rf))\n",
    "plt.xlabel('False positive rates ',size=20)\n",
    "plt.ylabel('True positive rates',size=20)\n",
    "plt.legend(loc='lower right',prop={'size':19})\n",
    "plt.show()"
   ]
  },
  {
   "cell_type": "markdown",
   "metadata": {},
   "source": [
    "# Multiclass Classification \n"
   ]
  },
  {
   "cell_type": "code",
   "execution_count": 2,
   "metadata": {},
   "outputs": [
    {
     "name": "stdout",
     "output_type": "stream",
     "text": [
      "Datasets loaded :)\n",
      "The dimensions of the training dataset is (145583, 41)\n",
      "The dimensions of test dataset is (311028, 41)\n",
      "The taken to load data is 5.07 secs\n"
     ]
    }
   ],
   "source": [
    "x_train,y_train,x_test,y_test=fetch_data(root,remove_duplicates=True,binary=False)"
   ]
  },
  {
   "cell_type": "code",
   "execution_count": 3,
   "metadata": {
    "collapsed": true
   },
   "outputs": [],
   "source": [
    "x_train=feature_engineering(x_train,do_normalization=False)\n",
    "x_test=feature_engineering(x_test,do_normalization=False)"
   ]
  },
  {
   "cell_type": "code",
   "execution_count": null,
   "metadata": {
    "collapsed": true
   },
   "outputs": [],
   "source": [
    "s = Sampling(x_train,y_train)\n",
    "data_for_modelling = s.Rand_Over_Samp(x_train,y_train)"
   ]
  },
  {
   "cell_type": "code",
   "execution_count": 4,
   "metadata": {
    "collapsed": true
   },
   "outputs": [],
   "source": [
    "m1=Model(x_train,y_train)"
   ]
  },
  {
   "cell_type": "code",
   "execution_count": 8,
   "metadata": {
    "collapsed": true
   },
   "outputs": [],
   "source": [
    "le=preprocessing.LabelEncoder()\n",
    "y_train=le.fit_transform(y_train)\n",
    "c=m1.randforest(x_train,y_train)\n"
   ]
  },
  {
   "cell_type": "code",
   "execution_count": 9,
   "metadata": {
    "collapsed": true
   },
   "outputs": [],
   "source": [
    "y=c.predict(x_test[:100000])\n",
    "y2=c.predict(x_test[100000:200000])\n",
    "y3=c.predict(x_test[200000:])\n",
    "\n",
    "y_pred=np.append(y,y2)   \n",
    "del y,y2\n",
    "y_pred=np.append(y_pred,y3)\n",
    "del y3\n",
    "\n",
    "y_pred=le.inverse_transform(y_pred)"
   ]
  },
  {
   "cell_type": "markdown",
   "metadata": {},
   "source": [
    "# Hitting the API "
   ]
  },
  {
   "cell_type": "code",
   "execution_count": null,
   "metadata": {
    "collapsed": true
   },
   "outputs": [],
   "source": [
    "#Random forest is the one. Lets save this model somewhere and hit the api to see what happens \n",
    "joblib.dump(rf,'random_forest.pkl')"
   ]
  },
  {
   "cell_type": "code",
   "execution_count": null,
   "metadata": {
    "collapsed": true
   },
   "outputs": [],
   "source": [
    "# Hitting the api \n",
    "root"
   ]
  },
  {
   "cell_type": "code",
   "execution_count": null,
   "metadata": {
    "collapsed": true
   },
   "outputs": [],
   "source": [
    "import pickle"
   ]
  },
  {
   "cell_type": "code",
   "execution_count": null,
   "metadata": {
    "collapsed": true
   },
   "outputs": [],
   "source": [
    "pickle.load(open('rf_test.pkl','rb'))"
   ]
  },
  {
   "cell_type": "code",
   "execution_count": null,
   "metadata": {
    "collapsed": true
   },
   "outputs": [],
   "source": [
    "pickle.dump(rf,open('rf_test.pkl','wb'),protocol=2)"
   ]
  },
  {
   "cell_type": "code",
   "execution_count": null,
   "metadata": {
    "collapsed": true
   },
   "outputs": [],
   "source": []
  }
 ],
 "metadata": {
  "kernelspec": {
   "display_name": "Python 3",
   "language": "python",
   "name": "python3"
  },
  "language_info": {
   "codemirror_mode": {
    "name": "ipython",
    "version": 3
   },
   "file_extension": ".py",
   "mimetype": "text/x-python",
   "name": "python",
   "nbconvert_exporter": "python",
   "pygments_lexer": "ipython3",
   "version": "3.6.1"
  }
 },
 "nbformat": 4,
 "nbformat_minor": 2
}
